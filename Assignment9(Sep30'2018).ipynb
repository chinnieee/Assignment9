{
 "cells": [
  {
   "cell_type": "markdown",
   "metadata": {},
   "source": [
    "TASK1:Calculate the Standard Deviation for the below data"
   ]
  },
  {
   "cell_type": "code",
   "execution_count": 1,
   "metadata": {},
   "outputs": [
    {
     "data": {
      "text/plain": [
       "335.92740617910624"
      ]
     },
     "execution_count": 1,
     "metadata": {},
     "output_type": "execute_result"
    }
   ],
   "source": [
    "import numpy as np\n",
    "mat=np.array([1550,1700,900,850,1000,950])\n",
    "#Function for the same:\n",
    "#def standarddev(a,str):\n",
    "#    sum=0\n",
    "#    for i in a:\n",
    "#        sum+=(i-a.mean())**2\n",
    "#    if str=='S':\n",
    "#        return (np.sqrt(sum/len(a)-1))\n",
    "#    else:\n",
    "#        return (np.sqrt(sum/len(a)))\n",
    "#standarddev(mat,'P')\n",
    "mat.std()"
   ]
  },
  {
   "cell_type": "markdown",
   "metadata": {},
   "source": [
    "TASK1:2 Calculate the variance"
   ]
  },
  {
   "cell_type": "code",
   "execution_count": 3,
   "metadata": {},
   "outputs": [
    {
     "data": {
      "text/plain": [
       "5183.25"
      ]
     },
     "execution_count": 3,
     "metadata": {},
     "output_type": "execute_result"
    }
   ],
   "source": [
    "cal_trees=np.array([3,21,98,203,17,9])\n",
    "cal_trees.var()\n",
    "#Function for the same\n",
    "#def var(a,str):\n",
    "#    sum=0\n",
    "#    for i in a:\n",
    "#        sum+=(i-a.mean())**2\n",
    "#    if str=='S':\n",
    "#        return ((sum/len(a)-1))\n",
    "#    else:\n",
    "#        return ((sum/len(a)))\n",
    "#var(cal_trees,'P')"
   ]
  },
  {
   "cell_type": "markdown",
   "metadata": {},
   "source": [
    "TASK1:3 Probability distribution\n"
   ]
  },
  {
   "cell_type": "code",
   "execution_count": 6,
   "metadata": {},
   "outputs": [
    {
     "name": "stdout",
     "output_type": "stream",
     "text": [
      "Probability for failing in 0 subjects:0.8\n",
      "Probability for failing in 1 subjects:0.1\n",
      "Probability for failing in 2 subjects:0.07\n",
      "Probability for failing in 3 subjects:0.03\n"
     ]
    }
   ],
   "source": [
    "print(f'Probability for failing in 0 subjects:{80/100}')\n",
    "print(f'Probability for failing in 1 subjects:{10/100}')\n",
    "print(f'Probability for failing in 2 subjects:{7/100}')\n",
    "print(f'Probability for failing in 3 subjects:{3/100}')"
   ]
  },
  {
   "cell_type": "markdown",
   "metadata": {},
   "source": [
    "TASK2:1 Probability of finding a person who answered exactly 5 questions wrong"
   ]
  },
  {
   "cell_type": "code",
   "execution_count": 13,
   "metadata": {},
   "outputs": [
    {
     "data": {
      "text/plain": [
       "3.4264958230778575e-06"
      ]
     },
     "execution_count": 13,
     "metadata": {},
     "output_type": "execute_result"
    }
   ],
   "source": [
    "def binom_form(n,k):\n",
    "    return np.math.factorial(n)/(np.math.factorial(k)*np.math.factorial(n-k))\n",
    "n=20\n",
    "k=15   #20-5\n",
    "p_s=1/4\n",
    "p_f=3/4\n",
    "binom_form(20,15)*(1/4)**15*(3/4)**5"
   ]
  },
  {
   "cell_type": "markdown",
   "metadata": {},
   "source": [
    "TASK2:2 Probability of getting D exactly 5 times when a DIE marked A-E is rolled 50 times"
   ]
  },
  {
   "cell_type": "code",
   "execution_count": 14,
   "metadata": {},
   "outputs": [
    {
     "data": {
      "text/plain": [
       "0.029531204310524296"
      ]
     },
     "execution_count": 14,
     "metadata": {},
     "output_type": "execute_result"
    }
   ],
   "source": [
    "n=50\n",
    "k=5\n",
    "p_s=1/5\n",
    "p_f=4/5\n",
    "binom_form(50,5)*(1/5)**5*(4/5)**45"
   ]
  },
  {
   "cell_type": "markdown",
   "metadata": {},
   "source": [
    "TASK2:3 Probability of all possible outcomes without replacement"
   ]
  },
  {
   "cell_type": "code",
   "execution_count": 15,
   "metadata": {},
   "outputs": [
    {
     "name": "stdout",
     "output_type": "stream",
     "text": [
      "Probability of getting 2 red balls without replacement:0.13333333333333333\n",
      "Probability of getting 2 black balls without replacement:0.3333333333333333\n",
      "Probability of getting 1 red ball and 2 black ball without replacement:0.26666666666666666\n"
     ]
    }
   ],
   "source": [
    "P_rr=12/90 #4/10*3/9\n",
    "P_bb=30/90 #6/10*5/9\n",
    "P_rb=24/90 #4/10*6/9\n",
    "p_br=24/90 #6/10*4/9\n",
    "print(f'Probability of getting 2 red balls without replacement:{P_rr}')\n",
    "print(f'Probability of getting 2 black balls without replacement:{P_bb}')\n",
    "print(f'Probability of getting 1 red ball and 2 black ball without replacement:{P_rb}')"
   ]
  },
  {
   "cell_type": "code",
   "execution_count": null,
   "metadata": {},
   "outputs": [],
   "source": []
  }
 ],
 "metadata": {
  "kernelspec": {
   "display_name": "Python 3",
   "language": "python",
   "name": "python3"
  },
  "language_info": {
   "codemirror_mode": {
    "name": "ipython",
    "version": 3
   },
   "file_extension": ".py",
   "mimetype": "text/x-python",
   "name": "python",
   "nbconvert_exporter": "python",
   "pygments_lexer": "ipython3",
   "version": "3.6.4"
  }
 },
 "nbformat": 4,
 "nbformat_minor": 2
}
